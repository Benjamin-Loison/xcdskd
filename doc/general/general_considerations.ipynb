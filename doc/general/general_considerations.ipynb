{
 "cells": [
  {
   "cell_type": "markdown",
   "metadata": {},
   "source": [
    "# Miscellaneous "
   ]
  },
  {
   "cell_type": "markdown",
   "metadata": {},
   "source": [
    "## Reproducibility and Reliability of Research\n",
    "\n",
    "* [Nature Special: Challenges in irreproducible research](https://www.nature.com/collections/prbfkwmwvz)\n",
    "\n",
    "* [Symposium: Reproducibility and reliability of biomedical research: improving research practice (2015)](https://acmedsci.ac.uk/policy/policy-projects/reproducibility-and-reliability-of-biomedical-research)\n",
    "\n",
    "* [Towards Open Science in Acoustics: Foundations and Best Practices (2017)](https://github.com/spatialaudio/DAGA2017_towards_open_science_in_acoustics)\n",
    "    \n",
    "    "
   ]
  },
  {
   "cell_type": "markdown",
   "metadata": {},
   "source": [
    "\n",
    "## General Data Visualization\n",
    "\n",
    "From the introduction to Ben Fry's [Visualizing Data](https://books.google.de/books?id=6jsVAiULQBgC&dq=Visualizing+Data&source=gbs_navlinks_s):\n",
    "\n",
    ">*Acquire*\n",
    ">Obtain the data, whether from a file on a disk or a source over a network.\n",
    ">\n",
    ">*Parse*\n",
    ">Provide some structure for the data’s meaning, and order it into categories.\n",
    ">\n",
    ">*Filter*\n",
    ">Remove all but the data of interest.\n",
    ">\n",
    ">*Mine*\n",
    ">Apply methods from statistics or data mining as a way to discern patterns or\n",
    ">place the data in mathematical context.\n",
    ">\n",
    ">*Represent*\n",
    ">Choose a basic visual model, such as a bar graph, list, or tree.\n",
    ">\n",
    ">*Refine*\n",
    ">Improve the basic representation to make it clearer and more visually engaging.\n",
    ">\n",
    ">*Interact*\n",
    ">Add methods for manipulating the data or controlling what features are visible. \n",
    "\n",
    "\n",
    "__ACQUIRE - PARSE - FILTER - MINE - REPRESENT - REFINE - INTERACT__\n"
   ]
  }
 ],
 "metadata": {
  "kernelspec": {
   "display_name": "Python 3",
   "language": "python",
   "name": "python3"
  },
  "language_info": {
   "codemirror_mode": {
    "name": "ipython",
    "version": 3
   },
   "file_extension": ".py",
   "mimetype": "text/x-python",
   "name": "python",
   "nbconvert_exporter": "python",
   "pygments_lexer": "ipython3",
   "version": "3.6.6"
  }
 },
 "nbformat": 4,
 "nbformat_minor": 2
}
